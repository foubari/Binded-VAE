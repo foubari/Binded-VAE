{
  "cells": [
    {
      "cell_type": "markdown",
      "metadata": {
        "id": "view-in-github",
        "colab_type": "text"
      },
      "source": [
        "<a href=\"https://colab.research.google.com/github/foubari/Binded-VAE/blob/main/Binded_VAE.ipynb\" target=\"_parent\"><img src=\"https://colab.research.google.com/assets/colab-badge.svg\" alt=\"Open In Colab\"/></a>"
      ]
    },
    {
      "cell_type": "markdown",
      "source": [
        "# Packages"
      ],
      "metadata": {
        "id": "4rx2VwJ9earX"
      }
    },
    {
      "cell_type": "code",
      "execution_count": 20,
      "metadata": {
        "id": "8uBDAzDwtO39"
      },
      "outputs": [],
      "source": [
        "import os\n",
        "import pandas as pd\n",
        "import numpy as np\n",
        "import tensorflow as tf\n",
        "from tensorflow import keras\n",
        "import matplotlib.pyplot as plt\n",
        "from plotly.subplots import make_subplots\n",
        "import plotly.graph_objects as go\n",
        "%matplotlib inline"
      ]
    },
    {
      "cell_type": "markdown",
      "source": [
        "Use GPU On Colab"
      ],
      "metadata": {
        "id": "KtiRvJzMed-e"
      }
    },
    {
      "cell_type": "code",
      "execution_count": 2,
      "metadata": {
        "colab": {
          "base_uri": "https://localhost:8080/"
        },
        "id": "15kyDEbLtYlB",
        "outputId": "91c09dff-3160-463a-fe99-9d65d9fe4919"
      },
      "outputs": [
        {
          "output_type": "stream",
          "name": "stdout",
          "text": [
            "Num GPUs Available:  1\n"
          ]
        }
      ],
      "source": [
        "print(\"Num GPUs Available: \", len(tf.config.list_physical_devices('GPU')))"
      ]
    },
    {
      "cell_type": "markdown",
      "source": [
        "# Dataset"
      ],
      "metadata": {
        "id": "0hs96j4rD0Tx"
      }
    },
    {
      "cell_type": "code",
      "source": [
        "BATCH_SIZE = 512\n",
        "# path = <dataset_path>\n",
        "#bvae_dataset = pd.read_csv(path).sample(frac=1)\n",
        "#bvae_dataset = tf.convert_to_tensor(bvae_dataset.astype('float32')) \n",
        "#mask_dataset=np.where(bvae_dataset > 0, 1.0, 0.0).astype('float32')\n",
        "#mask_generator = tf.data.Dataset.from_tensor_slices(mask_dataset).shuffle(True).batch(BATCH_SIZE)\n",
        "#train_set = tf.data.Dataset.from_tensor_slices((bvae_dataset,mask_dataset))\n",
        "#train_set = train_set.shuffle(True).batch(BATCH_SIZE)"
      ],
      "metadata": {
        "id": "1XTPC9yIJmYR"
      },
      "execution_count": 12,
      "outputs": []
    },
    {
      "cell_type": "markdown",
      "metadata": {
        "id": "uV5bfSphwbqE"
      },
      "source": [
        "# Model"
      ]
    },
    {
      "cell_type": "markdown",
      "source": [
        "## Parameters"
      ],
      "metadata": {
        "id": "3xsP8ONJDwF7"
      }
    },
    {
      "cell_type": "code",
      "execution_count": 15,
      "metadata": {
        "id": "1K67vc6Uu9A9"
      },
      "outputs": [],
      "source": [
        "lr = 0.001\n",
        "data_dim = 100 # Replace with bvae_dataset.shape[1] \n",
        "latent_dim1=64\n",
        "latent_dim2=32\n",
        "r_lambda1=10\n",
        "r_lambda2=1\n",
        "dice_gamma=10\n",
        "beta=10"
      ]
    },
    {
      "cell_type": "markdown",
      "source": [
        "## Binded VAE"
      ],
      "metadata": {
        "id": "3F2yRTCLJn7i"
      }
    },
    {
      "cell_type": "code",
      "execution_count": 16,
      "metadata": {
        "id": "5qGCHiqawBmh"
      },
      "outputs": [],
      "source": [
        "class Binded_vae(keras.Model):\n",
        "    def __init__(self,data_dim,latent_dim1,latent_dim2,r_lambda1,r_lambda2,dice_gamma,beta):\n",
        "        super(Binded_vae,self).__init__()\n",
        "        \n",
        "        self.latent_dim1= latent_dim1 \n",
        "        self.latent_dim2= latent_dim2\n",
        "        self._lambda1 = r_lambda1\n",
        "        self._lambda2 = r_lambda2\n",
        "        self._dice_gamma=dice_gamma\n",
        "        self._beta = beta\n",
        "        self._output_dim = data_dim \n",
        "        \n",
        "        self.m_encoder = keras.Sequential([keras.layers.Dense(512, activation = 'relu'),\n",
        "                                          keras.layers.Dense(1024, activation = 'relu'),\n",
        "                                          keras.layers.Dense(256, activation = 'relu'),\n",
        "                                          keras.layers.Dense(2*self.latent_dim1, activation = 'linear'),])\n",
        "        \n",
        "        self.m_decoder = keras.Sequential([keras.layers.Dense(512, activation = 'relu'),\n",
        "                                           keras.layers.Dense(1024, activation = 'relu'),\n",
        "                                           keras.layers.Dense(256, activation = 'relu'),\n",
        "                                           keras.layers.Dense(self._output_dim, activation = 'sigmoid')])\n",
        "        \n",
        "        self.r_encoder = keras.Sequential([keras.layers.Dense(256, activation = 'relu'),\n",
        "                                          keras.layers.Dense(2*self.latent_dim2, activation = 'linear'),])\n",
        "        \n",
        "        self.r_decoder = keras.Sequential([keras.layers.Dense(256, activation = 'relu'),\n",
        "                                          keras.layers.Dense(self._output_dim, activation = 'sigmoid'),])\n",
        "        \n",
        "        \n",
        "    \n",
        "    def m_encode(self, x):\n",
        "        z_mean,z_log_var = tf.split(self.m_encoder(x), num_or_size_splits=2, axis=1)\n",
        "        return z_mean,z_log_var\n",
        "    \n",
        "    def m_decode(self,x):\n",
        "        return self.m_decoder(x)\n",
        "    \n",
        "    def m_sample(self, z_mean, z_log_var, batch_size):\n",
        "        epsilon = tf.random.normal(shape=(batch_size,self.latent_dim1))\n",
        "        return z_mean +  tf.exp(0.5*z_log_var)*epsilon\n",
        "    \n",
        "    def dice(self,a,b):\n",
        "        return -2*tf.reduce_sum(a*b)/tf.reduce_sum(a+b)\n",
        "\n",
        "    def m_loss(self ,z_mean, z_log_var, data, reconstruction):\n",
        "        r_loss = tf.reduce_mean(keras.losses.binary_crossentropy(data,reconstruction))\n",
        "        kl_loss = -0.5 * (1 + z_log_var - tf.square(z_mean) - tf.exp(z_log_var))\n",
        "        dice_loss = self.dice(data,reconstruction)\n",
        "        return    self._lambda1*r_loss + tf.reduce_mean(kl_loss)+self._dice_gamma*dice_loss\n",
        "    \n",
        "    def r_encode(self, x,x_mask):\n",
        "        x_concat = tf.concat((x,x_mask),axis=1)\n",
        "        z_mean,z_log_var = tf.split(self.r_encoder(x_concat), num_or_size_splits=2, axis=1)\n",
        "        return z_mean,z_log_var\n",
        "\n",
        "    def r_decode(self,x,x_mask):\n",
        "        x_concat = tf.concat((x,x_mask),axis=1)\n",
        "        return self.r_decoder(x_concat)\n",
        "\n",
        "    def r_sample(self, z_mean, z_log_var, batch_size):\n",
        "        epsilon = tf.random.normal(shape=(batch_size,self.latent_dim2))\n",
        "        return z_mean +  tf.exp(0.5*z_log_var)*epsilon\n",
        "\n",
        "    def r_loss(self ,z_mean, z_log_var,data,data_mask,values):\n",
        "        r_loss = tf.reduce_mean(keras.losses.binary_crossentropy(data,data_mask*values))\n",
        "        kl_loss = -0.5 * (1 + z_log_var - tf.square(z_mean) - tf.exp(z_log_var))    \n",
        "        return  self._lambda2*r_loss + tf.reduce_mean(kl_loss)\n",
        "\n",
        "    def bvae_loss(self,cz_mean, cz_log_var,bz_mean, bz_log_var,data,data_mask, reconstruction,values):\n",
        "        r_vae_loss = self.r_loss(cz_mean, cz_log_var, data,reconstruction,values)\n",
        "        m_vae_loss = self.m_loss(bz_mean, bz_log_var, data_mask, reconstruction)\n",
        "        return  r_vae_loss+self._beta*m_vae_loss,m_vae_loss,r_vae_loss    \n",
        "\n",
        "    def train_step(self,data):\n",
        "        data,data_mask = data\n",
        "        with tf.GradientTape() as tape:\n",
        "            mz_mean, mz_log_var = self.m_encode(data_mask)\n",
        "            msample = self.m_sample(mz_mean, mz_log_var, tf.shape(data)[0])\n",
        "            reconstruction = self.m_decode(msample)          \n",
        "            \n",
        "            rz_mean, rz_log_var = self.r_encode(data,reconstruction)\n",
        "            rsample = self.r_sample(rz_mean, rz_log_var, tf.shape(data)[0])\n",
        "            values = self.r_decode(rsample,reconstruction)           \n",
        "            \n",
        "            losses = self.bvae_loss(rz_mean, rz_log_var,mz_mean, mz_log_var,data,data_mask, reconstruction,values)  \n",
        "            loss = losses[0]\n",
        "            loss_grad = tape.gradient(loss,self.trainable_variables)\n",
        "            self.optimizer.apply_gradients(zip(loss_grad,self.trainable_variables))        \n",
        "\n",
        "                        \n",
        "        return {\"Total loss\": loss,\"Mask loss\": losses[1],\"Values loss\": losses[2]}"
      ]
    },
    {
      "cell_type": "markdown",
      "source": [
        "## Train model"
      ],
      "metadata": {
        "id": "cUBvK22nUpXt"
      }
    },
    {
      "cell_type": "code",
      "execution_count": null,
      "metadata": {
        "id": "rwd7t-98Kus-"
      },
      "outputs": [],
      "source": [
        "bvae = Binded_vae(latent_dim1,latent_dim2,r_lambda1,r_lambda2,dice_gamma,beta)\n",
        "bvae.compile(optimizer=keras.optimizers.Adam(learning_rate=lr))\n",
        "#bvae_train_hist = bvae.fit(x=train_set,batch_size =BATCH_SIZE,epochs=100)"
      ]
    },
    {
      "cell_type": "markdown",
      "source": [
        "### Plot losses"
      ],
      "metadata": {
        "id": "cAzezljBUsWr"
      }
    },
    {
      "cell_type": "code",
      "execution_count": null,
      "metadata": {
        "id": "ATL7dI3z097Z"
      },
      "outputs": [],
      "source": [
        "''' Plot losses'''\n",
        "#fig= plt.subplots( figsize=(5,5))\n",
        "#plt.plot(bvae_train_hist.history['Total loss'],label = 'Total loss')     \n",
        "#plt.plot(bvae_train_hist.history['Mask loss'],label = \"Mask loss\")\n",
        "#plt.plot(bvae_train_hist.history['Values loss'],label = \"Value loss\")  \n",
        "#plt.legend()\n",
        "#plt.show()"
      ]
    },
    {
      "cell_type": "markdown",
      "source": [
        "# New generations"
      ],
      "metadata": {
        "id": "YYzNmT6FUvwA"
      }
    },
    {
      "cell_type": "code",
      "execution_count": 28,
      "metadata": {
        "id": "6GFzVbki2Rby"
      },
      "outputs": [],
      "source": [
        "'''Generate new compounds'''\n",
        "def generate(n=10000):\n",
        "    mask_sample,ratio_sample = tf.random.normal((n,latent_dim1)),tf.random.normal((n,latent_dim2))\n",
        "    mask=bvae.m_decoder.predict(mask_sample)\n",
        "    generated_data = mask*bvae.r_decoder.predict(tf.concat((ratio_sample,mask),axis=1))\n",
        "    return generated_data,mask\n",
        "generated_data,mask= generate(10000) "
      ]
    },
    {
      "cell_type": "code",
      "source": [
        "''' Plot generations next to real data'''\n",
        "plt.rcParams[\"axes.grid\"] = False\n",
        "fig, ax = plt.subplots(nrows=1, ncols=2, figsize=(18, 5))\n",
        "fig.subplots_adjust(hspace=.5)\n",
        "im = ax[0].imshow(generated_data, aspect='auto',interpolation='nearest',cmap=plt.get_cmap('viridis'))   \n",
        "ax[0].set_title('generation')\n",
        "im = ax[1].imshow(bvae_dataset, aspect='auto',interpolation='nearest',cmap=plt.get_cmap('viridis'))\n",
        "ax[1].set_title('real dataset')\n",
        "fig.colorbar(im, ax=ax)\n",
        "plt.show()"
      ],
      "metadata": {
        "id": "mOZMRGPzcVaK",
        "outputId": "e356db98-ea9e-4a9f-9507-cf0ebefb9651",
        "colab": {
          "base_uri": "https://localhost:8080/",
          "height": 336
        }
      },
      "execution_count": 29,
      "outputs": [
        {
          "output_type": "display_data",
          "data": {
            "text/plain": [
              "<Figure size 1296x360 with 3 Axes>"
            ],
            "image/png": "[encoded data removed]"
          },
          "metadata": {
            "needs_background": "light"
          }
        }
      ]
    },
    {
      "cell_type": "code",
      "execution_count": null,
      "metadata": {
        "id": "MvKbPQ7V6ELF"
      },
      "outputs": [],
      "source": [
        "''' Save and load model'''\n",
        "#bvae.save_weights('model_path')\n",
        "#bvae.load_weights('model_path')"
      ]
    }
  ],
  "metadata": {
    "accelerator": "GPU",
    "colab": {
      "collapsed_sections": [],
      "machine_shape": "hm",
      "name": "Binded_VAE.ipynb",
      "provenance": [],
      "mount_file_id": "1pmgnImaXfRvVF-0GYIrypdN7sy1kDbr6",
      "authorship_tag": "ABX9TyOfrkXJs42kqE44EmzOCnac",
      "include_colab_link": true
    },
    "kernelspec": {
      "display_name": "Python 3",
      "name": "python3"
    },
    "language_info": {
      "name": "python"
    }
  },
  "nbformat": 4,
  "nbformat_minor": 0
}